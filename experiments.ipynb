{
 "cells": [
  {
   "cell_type": "markdown",
   "metadata": {},
   "source": [
    "# Project experiments"
   ]
  },
  {
   "cell_type": "code",
   "execution_count": 1,
   "metadata": {},
   "outputs": [],
   "source": [
    "import time\n",
    "from engine import Engine\n",
    "import numpy as np\n",
    "import nltk\n",
    "from nltk.corpus import brown, reuters, gutenberg, inaugural\n",
    "import matplotlib.pyplot as plt\n"
   ]
  },
  {
   "cell_type": "code",
   "execution_count": 2,
   "metadata": {},
   "outputs": [
    {
     "name": "stderr",
     "output_type": "stream",
     "text": [
      "[nltk_data] Downloading package brown to /home/codespace/nltk_data...\n",
      "[nltk_data]   Package brown is already up-to-date!\n",
      "[nltk_data] Downloading package reuters to\n",
      "[nltk_data]     /home/codespace/nltk_data...\n",
      "[nltk_data]   Package reuters is already up-to-date!\n",
      "[nltk_data] Downloading package gutenberg to\n",
      "[nltk_data]     /home/codespace/nltk_data...\n",
      "[nltk_data]   Package gutenberg is already up-to-date!\n",
      "[nltk_data] Downloading package inaugural to\n",
      "[nltk_data]     /home/codespace/nltk_data...\n",
      "[nltk_data]   Package inaugural is already up-to-date!\n"
     ]
    },
    {
     "data": {
      "text/plain": [
       "True"
      ]
     },
     "execution_count": 2,
     "metadata": {},
     "output_type": "execute_result"
    }
   ],
   "source": [
    "nltk.download('brown')\n",
    "nltk.download('reuters')\n",
    "nltk.download('gutenberg')\n",
    "nltk.download('inaugural')"
   ]
  },
  {
   "cell_type": "code",
   "execution_count": 3,
   "metadata": {},
   "outputs": [],
   "source": [
    "engine = Engine('data/shorthand_dict.json')"
   ]
  },
  {
   "cell_type": "code",
   "execution_count": 4,
   "metadata": {},
   "outputs": [],
   "source": [
    "from dahuffman import HuffmanCodec"
   ]
  },
  {
   "cell_type": "code",
   "execution_count": 9,
   "metadata": {},
   "outputs": [],
   "source": [
    "def print_table_header(name, characteristics):\n",
    "    table_width = 120\n",
    "    print('#' * table_width)\n",
    "    print('#' + ' ' * (((table_width - 2) - len(name)) // 2) + name + ' ' * (((table_width - 2) - len(name)) // 2) + '#')\n",
    "    print('#' + ' ' * (((table_width - 2) - len(characteristics)) // 2) + characteristics + ' ' * (((table_width - 2) - len(characteristics)) // 2) + '#')\n",
    "    print('#' * table_width)\n",
    "    print('orig. size\\tcomp. size\\tcomp. ratio\\thit rate\\tduration\\tHuff. ratio\\tcomb. ratio\\tfile name')\n",
    "    print('----------\\t----------\\t----------\\t----------\\t----------\\t----------\\t----------\\t----------')\n",
    "\n",
    "def print_table_footer(ratio, hit, dur, huff, comb):\n",
    "    print('----------\\t----------\\t--AVERAGES--\\t----------\\t----------\\t----------')\n",
    "    print('comp. ratio\\thit rate\\tduration\\tHuff. ratio\\tcomb. ratio')\n",
    "    print('----------\\t----------\\t----------\\t----------\\t----------\\t----------\\t----------\\t----------')\n",
    "    print('{:.2f}%\\t\\t{:.2f}%\\t\\t{:.3f}s\\t\\t{:.2f}%\\t\\t{:.2f}'.format(ratio, hit, dur, huff, comb))\n",
    "\n",
    "def print_result(original_file_size, compressed_file_size, compressed_words, total_words, duration, huffman_only, huffman_also, file):\n",
    "    print('{} bytes\\t{} bytes\\t{:.2f}%\\t\\t{:.2f}%\\t\\t{:.3f}\\t\\t{:.2f}%\\t\\t{:.2f}%\\t\\t{}'.format(original_file_size, compressed_file_size, compressed_file_size / original_file_size * 100, compressed_words / total_words * 100, duration, huffman_only, huffman_also, file))"
   ]
  },
  {
   "cell_type": "code",
   "execution_count": 11,
   "metadata": {},
   "outputs": [],
   "source": [
    "def run_experiment(corpus, name, documents):\n",
    "    word_counts = []\n",
    "    for file in corpus.fileids():\n",
    "        word_counts.append(len(corpus.words(fileids=[file])))\n",
    "    print_table_header(name, '{} documents | avg {} words'.format(len(word_counts), round(np.mean(word_counts))))\n",
    "    avg_ratio, avg_hit, avg_dur, avg_huff, avg_comb = [], [], [], [], []\n",
    "    for file in corpus.fileids()[:documents]:\n",
    "        text = corpus.raw(file)\n",
    "        huffman_only = len(HuffmanCodec.from_data(text).encode(text))\n",
    "        original_file_size = len(text)\n",
    "        compressed_text, compressed_words, total_words, duration = engine.compress(text, opts = {'lossless': True, 'verbose': False })\n",
    "        compressed_file_size = len(compressed_text)\n",
    "\n",
    "        huffman_also = len(HuffmanCodec.from_data(compressed_text).encode(compressed_text))\n",
    "        avg_ratio.append(compressed_file_size / original_file_size * 100)\n",
    "        avg_hit.append(compressed_words / total_words * 100)\n",
    "        avg_dur.append(duration)\n",
    "        avg_huff.append(huffman_only / original_file_size * 100)\n",
    "        avg_comb.append(huffman_also / original_file_size * 100)\n",
    "        \n",
    "        print_result(original_file_size, compressed_file_size, compressed_words, total_words, duration, (huffman_only / original_file_size) * 100, (huffman_also / original_file_size) * 100, file)\n",
    "    print_table_footer(np.mean(avg_ratio), np.mean(avg_hit), np.mean(avg_dur), np.mean(avg_huff), np.mean(avg_comb))"
   ]
  },
  {
   "cell_type": "code",
   "execution_count": 12,
   "metadata": {},
   "outputs": [
    {
     "name": "stdout",
     "output_type": "stream",
     "text": [
      "########################################################################################################################\n",
      "#                                                        C-Span                                                        #\n",
      "#                                            59 documents | avg 2592 words                                            #\n",
      "########################################################################################################################\n",
      "orig. size\tcomp. size\tcomp. ratio\thit rate\tduration\tHuff. ratio\tcomb. ratio\tfile name\n",
      "----------\t----------\t----------\t----------\t----------\t----------\t----------\t----------\n",
      "8619 bytes\t6447 bytes\t74.80%\t\t71.63%\t\t4.804\t\t53.57%\t\t38.93%\t\t1789-Washington.txt\n",
      "791 bytes\t599 bytes\t75.73%\t\t66.67%\t\t0.541\t\t54.49%\t\t40.46%\t\t1793-Washington.txt\n",
      "13877 bytes\t10359 bytes\t74.65%\t\t70.71%\t\t8.310\t\t53.28%\t\t38.70%\t\t1797-Adams.txt\n",
      "10137 bytes\t7724 bytes\t76.20%\t\t68.36%\t\t6.136\t\t53.65%\t\t39.84%\t\t1801-Jefferson.txt\n",
      "12908 bytes\t9676 bytes\t74.96%\t\t70.95%\t\t7.479\t\t53.23%\t\t38.61%\t\t1805-Jefferson.txt\n",
      "7001 bytes\t5169 bytes\t73.83%\t\t74.31%\t\t4.340\t\t53.05%\t\t37.82%\t\t1809-Madison.txt\n",
      "7157 bytes\t5413 bytes\t75.63%\t\t69.35%\t\t4.410\t\t53.19%\t\t39.15%\t\t1813-Madison.txt\n",
      "19887 bytes\t15184 bytes\t76.35%\t\t67.13%\t\t12.441\t\t53.74%\t\t40.15%\t\t1817-Monroe.txt\n",
      "26326 bytes\t19965 bytes\t75.84%\t\t68.41%\t\t15.638\t\t53.72%\t\t39.83%\t\t1821-Monroe.txt\n",
      "17741 bytes\t13142 bytes\t74.08%\t\t73.60%\t\t9.944\t\t53.35%\t\t38.46%\t\t1825-Adams.txt\n",
      "6817 bytes\t5089 bytes\t74.65%\t\t71.19%\t\t3.974\t\t53.51%\t\t38.87%\t\t1829-Jackson.txt\n",
      "7058 bytes\t5340 bytes\t75.66%\t\t71.35%\t\t4.144\t\t53.68%\t\t39.69%\t\t1833-Jackson.txt\n",
      "23417 bytes\t17396 bytes\t74.29%\t\t71.54%\t\t13.135\t\t53.54%\t\t38.75%\t\t1837-VanBuren.txt\n",
      "49700 bytes\t37554 bytes\t75.56%\t\t72.25%\t\t29.876\t\t53.42%\t\t39.24%\t\t1841-Harrison.txt\n",
      "28716 bytes\t21696 bytes\t75.55%\t\t69.93%\t\t17.593\t\t53.67%\t\t39.71%\t\t1845-Polk.txt\n",
      "6605 bytes\t4935 bytes\t74.72%\t\t72.75%\t\t3.643\t\t53.85%\t\t39.00%\t\t1849-Taylor.txt\n",
      "20081 bytes\t15157 bytes\t75.48%\t\t68.23%\t\t11.672\t\t53.70%\t\t39.54%\t\t1853-Pierce.txt\n",
      "16815 bytes\t12899 bytes\t76.71%\t\t67.26%\t\t9.729\t\t53.86%\t\t40.51%\t\t1857-Buchanan.txt\n",
      "21017 bytes\t16058 bytes\t76.40%\t\t67.74%\t\t13.455\t\t54.02%\t\t40.25%\t\t1861-Lincoln.txt\n",
      "3926 bytes\t3054 bytes\t77.79%\t\t64.57%\t\t2.730\t\t53.87%\t\t40.78%\t\t1865-Lincoln.txt\n",
      "6503 bytes\t4887 bytes\t75.15%\t\t68.86%\t\t4.099\t\t53.99%\t\t39.30%\t\t1869-Grant.txt\n",
      "7734 bytes\t5777 bytes\t74.70%\t\t69.65%\t\t4.799\t\t54.15%\t\t39.15%\t\t1873-Grant.txt\n",
      "14938 bytes\t11138 bytes\t74.56%\t\t73.03%\t\t8.518\t\t53.61%\t\t38.63%\t\t1877-Hayes.txt\n",
      "17767 bytes\t13383 bytes\t75.33%\t\t71.84%\t\t10.260\t\t53.86%\t\t39.42%\t\t1881-Garfield.txt\n",
      "10145 bytes\t7571 bytes\t74.63%\t\t73.89%\t\t5.848\t\t53.67%\t\t38.88%\t\t1885-Cleveland.txt\n",
      "26179 bytes\t19689 bytes\t75.21%\t\t71.13%\t\t15.340\t\t53.72%\t\t39.42%\t\t1889-Harrison.txt\n",
      "12349 bytes\t9101 bytes\t73.70%\t\t76.05%\t\t6.902\t\t53.49%\t\t38.05%\t\t1893-Cleveland.txt\n",
      "23659 bytes\t17761 bytes\t75.07%\t\t69.84%\t\t14.229\t\t53.74%\t\t39.39%\t\t1897-McKinley.txt\n",
      "13408 bytes\t10161 bytes\t75.78%\t\t68.06%\t\t7.633\t\t54.15%\t\t40.21%\t\t1901-McKinley.txt\n",
      "5568 bytes\t4254 bytes\t76.40%\t\t67.59%\t\t3.832\t\t53.48%\t\t39.91%\t\t1905-Roosevelt.txt\n",
      "32164 bytes\t23949 bytes\t74.46%\t\t72.63%\t\t19.211\t\t53.47%\t\t38.61%\t\t1909-Taft.txt\n",
      "9563 bytes\t7364 bytes\t77.01%\t\t66.51%\t\t6.809\t\t53.73%\t\t40.40%\t\t1913-Wilson.txt\n",
      "8395 bytes\t6282 bytes\t74.83%\t\t70.29%\t\t6.539\t\t53.23%\t\t38.34%\t\t1917-Wilson.txt\n",
      "20298 bytes\t15138 bytes\t74.58%\t\t67.19%\t\t11.853\t\t54.05%\t\t39.45%\t\t1921-Harding.txt\n",
      "23949 bytes\t17822 bytes\t74.42%\t\t70.97%\t\t14.766\t\t53.44%\t\t38.57%\t\t1925-Coolidge.txt\n",
      "21764 bytes\t16301 bytes\t74.90%\t\t69.49%\t\t12.606\t\t54.82%\t\t40.21%\t\t1929-Hoover.txt\n",
      "10903 bytes\t8212 bytes\t75.32%\t\t67.69%\t\t6.747\t\t53.85%\t\t39.35%\t\t1933-Roosevelt.txt\n",
      "10607 bytes\t7982 bytes\t75.25%\t\t68.06%\t\t6.935\t\t54.41%\t\t40.06%\t\t1937-Roosevelt.txt\n",
      "7571 bytes\t5841 bytes\t77.15%\t\t62.12%\t\t5.122\t\t54.70%\t\t41.24%\t\t1941-Roosevelt.txt\n",
      "3039 bytes\t2324 bytes\t76.47%\t\t63.19%\t\t2.239\t\t55.08%\t\t40.80%\t\t1945-Roosevelt.txt\n",
      "13679 bytes\t10165 bytes\t74.31%\t\t69.70%\t\t7.843\t\t54.29%\t\t39.18%\t\t1949-Truman.txt\n",
      "13955 bytes\t10658 bytes\t76.37%\t\t66.75%\t\t9.287\t\t54.46%\t\t40.56%\t\t1953-Eisenhower.txt\n",
      "9190 bytes\t7084 bytes\t77.08%\t\t63.68%\t\t6.434\t\t54.55%\t\t40.97%\t\t1957-Eisenhower.txt\n",
      "7618 bytes\t5824 bytes\t76.45%\t\t66.30%\t\t5.119\t\t54.59%\t\t40.72%\t\t1961-Kennedy.txt\n",
      "8193 bytes\t6337 bytes\t77.35%\t\t59.10%\t\t6.193\t\t54.94%\t\t41.60%\t\t1965-Johnson.txt\n",
      "11624 bytes\t8925 bytes\t76.78%\t\t61.82%\t\t8.688\t\t54.56%\t\t40.71%\t\t1969-Nixon.txt\n",
      "9991 bytes\t7630 bytes\t76.37%\t\t64.66%\t\t7.579\t\t54.31%\t\t40.47%\t\t1973-Nixon.txt\n",
      "6873 bytes\t5277 bytes\t76.78%\t\t62.35%\t\t4.950\t\t54.50%\t\t40.87%\t\t1977-Carter.txt\n",
      "13735 bytes\t10647 bytes\t77.52%\t\t59.45%\t\t9.742\t\t54.87%\t\t41.85%\t\t1981-Reagan.txt\n",
      "14561 bytes\t11348 bytes\t77.93%\t\t61.30%\t\t9.703\t\t54.83%\t\t42.20%\t\t1985-Reagan.txt\n",
      "12523 bytes\t9974 bytes\t79.65%\t\t54.78%\t\t9.369\t\t54.86%\t\t42.97%\t\t1989-Bush.txt\n",
      "9114 bytes\t7018 bytes\t77.00%\t\t62.13%\t\t6.326\t\t54.62%\t\t41.24%\t\t1993-Clinton.txt\n",
      "12250 bytes\t9380 bytes\t76.57%\t\t63.95%\t\t8.270\t\t54.47%\t\t40.89%\t\t1997-Clinton.txt\n",
      "9053 bytes\t6910 bytes\t76.33%\t\t61.65%\t\t6.301\t\t54.64%\t\t40.59%\t\t2001-Bush.txt\n",
      "12018 bytes\t9207 bytes\t76.61%\t\t65.24%\t\t7.269\t\t54.53%\t\t41.23%\t\t2005-Bush.txt\n",
      "13439 bytes\t10309 bytes\t76.71%\t\t64.81%\t\t9.264\t\t54.19%\t\t40.51%\t\t2009-Obama.txt\n",
      "11949 bytes\t9173 bytes\t76.77%\t\t65.99%\t\t7.957\t\t54.53%\t\t41.10%\t\t2013-Obama.txt\n",
      "8449 bytes\t6668 bytes\t78.92%\t\t58.84%\t\t5.543\t\t55.23%\t\t42.95%\t\t2017-Trump.txt\n",
      "13963 bytes\t11238 bytes\t80.48%\t\t53.39%\t\t9.996\t\t55.82%\t\t44.37%\t\t2021-Biden.txt\n",
      "----------\t----------\t--AVERAGES--\t----------\t----------\t----------\n",
      "comp. ratio\thit rate\tduration\tHuff. ratio\tcomb. ratio\n",
      "----------\t----------\t----------\t----------\t----------\t----------\t----------\t----------\n",
      "75.93%\t\t67.32%\t\t8.544s\t\t54.07%\t\t40.05\n",
      "########################################################################################################################\n",
      "#                                                       Reuters                                                       #\n",
      "#                                           10788 documents | avg 160 words                                           #\n",
      "########################################################################################################################\n",
      "orig. size\tcomp. size\tcomp. ratio\thit rate\tduration\tHuff. ratio\tcomb. ratio\tfile name\n",
      "----------\t----------\t----------\t----------\t----------\t----------\t----------\t----------\n",
      "4691 bytes\t3571 bytes\t76.12%\t\t53.43%\t\t2.520\t\t56.90%\t\t43.62%\t\ttest/14826\n",
      "660 bytes\t486 bytes\t73.64%\t\t57.72%\t\t0.378\t\t58.03%\t\t42.12%\t\ttest/14828\n",
      "1142 bytes\t874 bytes\t76.53%\t\t52.79%\t\t0.569\t\t58.76%\t\t45.36%\t\ttest/14829\n",
      "958 bytes\t714 bytes\t74.53%\t\t60.61%\t\t0.400\t\t58.77%\t\t43.63%\t\ttest/14832\n",
      "1043 bytes\t792 bytes\t75.93%\t\t57.63%\t\t0.546\t\t57.62%\t\t43.91%\t\ttest/14833\n",
      "1237 bytes\t938 bytes\t75.83%\t\t58.85%\t\t0.749\t\t56.18%\t\t42.76%\t\ttest/14839\n",
      "2530 bytes\t1879 bytes\t74.27%\t\t59.82%\t\t1.419\t\t56.96%\t\t42.57%\t\ttest/14840\n",
      "321 bytes\t269 bytes\t83.80%\t\t39.29%\t\t0.175\t\t60.12%\t\t51.09%\t\ttest/14841\n",
      "680 bytes\t566 bytes\t83.24%\t\t39.29%\t\t0.570\t\t60.29%\t\t50.29%\t\ttest/14842\n",
      "4357 bytes\t3289 bytes\t75.49%\t\t52.77%\t\t2.253\t\t56.25%\t\t42.99%\t\ttest/14843\n",
      "646 bytes\t502 bytes\t77.71%\t\t53.85%\t\t0.387\t\t57.89%\t\t45.36%\t\ttest/14844\n",
      "1665 bytes\t1232 bytes\t73.99%\t\t65.84%\t\t0.750\t\t57.30%\t\t42.10%\t\ttest/14849\n",
      "1758 bytes\t1362 bytes\t77.47%\t\t51.30%\t\t0.958\t\t57.39%\t\t44.71%\t\ttest/14852\n",
      "608 bytes\t449 bytes\t73.85%\t\t61.61%\t\t0.339\t\t58.72%\t\t42.60%\t\ttest/14854\n",
      "3015 bytes\t2318 bytes\t76.88%\t\t54.18%\t\t1.444\t\t56.52%\t\t43.55%\t\ttest/14858\n",
      "645 bytes\t493 bytes\t76.43%\t\t52.89%\t\t0.419\t\t58.76%\t\t44.96%\t\ttest/14859\n",
      "688 bytes\t568 bytes\t82.56%\t\t26.55%\t\t0.189\t\t58.72%\t\t50.44%\t\ttest/14860\n",
      "603 bytes\t454 bytes\t75.29%\t\t53.27%\t\t0.321\t\t59.04%\t\t43.62%\t\ttest/14861\n",
      "2616 bytes\t1977 bytes\t75.57%\t\t56.25%\t\t1.615\t\t56.84%\t\t42.97%\t\ttest/14862\n",
      "1690 bytes\t1300 bytes\t76.92%\t\t50.34%\t\t0.963\t\t57.10%\t\t44.50%\t\ttest/14863\n",
      "644 bytes\t532 bytes\t82.61%\t\t35.07%\t\t0.380\t\t60.40%\t\t49.84%\t\ttest/14865\n",
      "717 bytes\t521 bytes\t72.66%\t\t72.95%\t\t0.389\t\t57.46%\t\t40.73%\t\ttest/14867\n",
      "1093 bytes\t850 bytes\t77.77%\t\t52.06%\t\t0.491\t\t59.93%\t\t46.48%\t\ttest/14872\n",
      "1316 bytes\t998 bytes\t75.84%\t\t55.86%\t\t0.623\t\t58.66%\t\t44.76%\t\ttest/14873\n",
      "659 bytes\t506 bytes\t76.78%\t\t56.52%\t\t0.349\t\t59.33%\t\t45.52%\t\ttest/14875\n",
      "449 bytes\t350 bytes\t77.95%\t\t38.57%\t\t0.159\t\t59.47%\t\t48.11%\t\ttest/14876\n",
      "665 bytes\t522 bytes\t78.50%\t\t48.78%\t\t0.462\t\t56.84%\t\t45.11%\t\ttest/14877\n",
      "1293 bytes\t957 bytes\t74.01%\t\t60.18%\t\t0.674\t\t56.07%\t\t41.14%\t\ttest/14881\n",
      "651 bytes\t511 bytes\t78.49%\t\t51.75%\t\t0.250\t\t60.22%\t\t47.77%\t\ttest/14882\n",
      "666 bytes\t520 bytes\t78.08%\t\t48.72%\t\t0.303\t\t59.76%\t\t46.85%\t\ttest/14885\n",
      "192 bytes\t156 bytes\t81.25%\t\t47.06%\t\t0.082\t\t60.94%\t\t48.96%\t\ttest/14886\n",
      "1557 bytes\t1281 bytes\t82.27%\t\t42.19%\t\t0.822\t\t59.92%\t\t49.65%\t\ttest/14888\n",
      "4903 bytes\t3674 bytes\t74.93%\t\t59.79%\t\t2.386\t\t55.92%\t\t41.93%\t\ttest/14890\n",
      "4645 bytes\t3403 bytes\t73.26%\t\t61.85%\t\t2.546\t\t56.56%\t\t41.40%\t\ttest/14891\n",
      "1533 bytes\t1143 bytes\t74.56%\t\t60.14%\t\t0.914\t\t57.01%\t\t42.34%\t\ttest/14892\n",
      "158 bytes\t152 bytes\t96.20%\t\t0.00%\t\t0.074\t\t53.16%\t\t50.63%\t\ttest/14899\n",
      "1123 bytes\t874 bytes\t77.83%\t\t49.75%\t\t0.615\t\t59.13%\t\t46.22%\t\ttest/14900\n",
      "502 bytes\t386 bytes\t76.89%\t\t54.55%\t\t0.286\t\t59.76%\t\t45.62%\t\ttest/14903\n",
      "1358 bytes\t1076 bytes\t79.23%\t\t48.68%\t\t0.661\t\t58.10%\t\t46.61%\t\ttest/14904\n",
      "636 bytes\t502 bytes\t78.93%\t\t50.00%\t\t0.241\t\t59.59%\t\t47.17%\t\ttest/14907\n",
      "1077 bytes\t824 bytes\t76.51%\t\t56.74%\t\t0.446\t\t57.20%\t\t43.83%\t\ttest/14909\n",
      "1568 bytes\t1185 bytes\t75.57%\t\t56.93%\t\t0.710\t\t57.78%\t\t43.81%\t\ttest/14911\n",
      "1293 bytes\t957 bytes\t74.01%\t\t60.18%\t\t0.669\t\t55.99%\t\t41.07%\t\ttest/14912\n",
      "572 bytes\t433 bytes\t75.70%\t\t55.10%\t\t0.304\t\t59.97%\t\t45.80%\t\ttest/14913\n",
      "263 bytes\t211 bytes\t80.23%\t\t51.16%\t\t0.095\t\t60.84%\t\t48.29%\t\ttest/14918\n",
      "461 bytes\t357 bytes\t77.44%\t\t49.41%\t\t0.237\t\t59.22%\t\t45.12%\t\ttest/14919\n",
      "4783 bytes\t3637 bytes\t76.04%\t\t54.17%\t\t2.543\t\t57.64%\t\t44.16%\t\ttest/14921\n",
      "1232 bytes\t963 bytes\t78.17%\t\t53.55%\t\t0.767\t\t56.49%\t\t44.64%\t\ttest/14922\n",
      "681 bytes\t521 bytes\t76.51%\t\t57.02%\t\t0.348\t\t59.18%\t\t45.52%\t\ttest/14923\n",
      "656 bytes\t512 bytes\t78.05%\t\t53.51%\t\t0.362\t\t60.98%\t\t47.71%\t\ttest/14926\n",
      "----------\t----------\t--AVERAGES--\t----------\t----------\t----------\n",
      "comp. ratio\thit rate\tduration\tHuff. ratio\tcomb. ratio\n",
      "----------\t----------\t----------\t----------\t----------\t----------\t----------\t----------\n",
      "77.45%\t\t52.01%\t\t0.723s\t\t58.23%\t\t45.20\n",
      "########################################################################################################################\n",
      "#                                                      Gutenberg                                                      #\n",
      "#                                           18 documents | avg 145645 words                                           #\n",
      "########################################################################################################################\n",
      "orig. size\tcomp. size\tcomp. ratio\thit rate\tduration\tHuff. ratio\tcomb. ratio\tfile name\n",
      "----------\t----------\t----------\t----------\t----------\t----------\t----------\t----------\n",
      "887071 bytes\t703165 bytes\t79.27%\t\t53.79%\t\t610.615\t\t56.64%\t\t43.73%\t\tausten-emma.txt\n",
      "466292 bytes\t367821 bytes\t78.88%\t\t56.18%\t\t315.181\t\t55.78%\t\t42.84%\t\tausten-persuasion.txt\n",
      "673022 bytes\t530786 bytes\t78.87%\t\t54.82%\t\t440.679\t\t56.13%\t\t43.03%\t\tausten-sense.txt\n",
      "----------\t----------\t--AVERAGES--\t----------\t----------\t----------\n",
      "comp. ratio\thit rate\tduration\tHuff. ratio\tcomb. ratio\n",
      "----------\t----------\t----------\t----------\t----------\t----------\t----------\t----------\n",
      "79.01%\t\t54.93%\t\t455.492s\t\t56.18%\t\t43.20\n"
     ]
    }
   ],
   "source": [
    "run_experiment(inaugural, 'C-Span', len(inaugural.fileids()))\n",
    "run_experiment(reuters, 'Reuters', 50)\n",
    "run_experiment(gutenberg, 'Gutenberg', 3)"
   ]
  },
  {
   "cell_type": "code",
   "execution_count": 7,
   "metadata": {},
   "outputs": [],
   "source": [
    "dur = []\n",
    "huff_dur = []\n",
    "for n in range(10, 100, 10):\n",
    "    doc_size = n * 10\n",
    "    text = inaugural.raw('1789-Washington.txt')[:doc_size]\n",
    "    start_time = time.time()\n",
    "    HuffmanCodec.from_data(text).encode(text)\n",
    "    huffman_duration = time.time() - start_time\n",
    "    _, _, _, duration = engine.compress(text, opts = {'lossless': True, 'verbose': False })\n",
    "    dur.append(duration)\n",
    "    huff_dur.append(huffman_duration)"
   ]
  },
  {
   "cell_type": "code",
   "execution_count": 10,
   "metadata": {},
   "outputs": [
    {
     "data": {
      "image/png": "[encoded data removed]",
      "text/plain": [
       "<Figure size 432x288 with 2 Axes>"
      ]
     },
     "metadata": {
      "needs_background": "light"
     },
     "output_type": "display_data"
    }
   ],
   "source": [
    "plt.title('Time Complexity')\n",
    "plt.xlabel('Document size (words)')\n",
    "plt.ylabel('Duration (s)')\n",
    "\n",
    "ax1 = plt.subplot()\n",
    "l1, = ax1.plot(range(10, 100, 10), dur, color='red')\n",
    "ax2 = ax1.twinx()\n",
    "l2, = ax2.plot(range(10, 100, 10), huff_dur, color='orange')\n",
    "\n",
    "plt.legend([l1, l2], [\"TxtComp\", \"Huffman\"])\n",
    "\n",
    "plt.show()"
   ]
  }
 ],
 "metadata": {
  "interpreter": {
   "hash": "d681ec65da38070935865d297b1942c990165e70faa6f911b583ee4322f0c6ff"
  },
  "kernelspec": {
   "display_name": "Python 3.10.4 ('env': venv)",
   "language": "python",
   "name": "python3"
  },
  "language_info": {
   "codemirror_mode": {
    "name": "ipython",
    "version": 3
   },
   "file_extension": ".py",
   "mimetype": "text/x-python",
   "name": "python",
   "nbconvert_exporter": "python",
   "pygments_lexer": "ipython3",
   "version": "3.10.4"
  },
  "orig_nbformat": 4
 },
 "nbformat": 4,
 "nbformat_minor": 2
}
