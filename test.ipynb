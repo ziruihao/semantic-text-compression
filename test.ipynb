{
  "cells": [
    {
      "cell_type": "markdown",
      "metadata": {
        "id": "tKDwQorvrSRJ"
      },
      "source": [
        "# Template for Homework 3.3: Word2Vec\n",
        "Dartmouth College, LING48/CS72, Spring 2022<br>\n",
        "Rolando Coto-Solano (Rolando.A.Coto.Solano@dartmouth.edu)\n",
        "\n",
        "This Python script reads one file, the ca.bin file for a pre-trained word2vec. .bin files for other languages can be downloaded here:\n",
        "https://github.com/Kyubyong/wordvectors\n",
        "This example uses the Catalan word2vec.\n",
        "\n",
        "You can learn more about the details of the code below here:\n",
        "https://samyzaf.com/ML/nlp/nlp.html\n",
        "\n",
        "I got the visualization code from here:\n",
        "https://stackoverflow.com/questions/43776572/visualise-word2vec-generated-from-gensim\n",
        "\n",
        "You can learn more about word2vec here:\n",
        "http://jalammar.github.io/illustrated-word2vec/"
      ]
    },
    {
      "cell_type": "code",
      "execution_count": 2,
      "metadata": {
        "id": "C7TaPpwdlc8o"
      },
      "outputs": [],
      "source": [
        "# Import libraries to run word2vec and make charts\n",
        "from gensim.models import Word2Vec\n",
        "import gensim.downloader as api"
      ]
    },
    {
      "cell_type": "code",
      "execution_count": 4,
      "metadata": {},
      "outputs": [
        {
          "name": "stdout",
          "output_type": "stream",
          "text": [
            "20-newsgroups (18846 records): The notorious collection of approximatel...\n",
            "__testing_matrix-synopsis (-1 records): [THIS IS ONLY FOR TESTING] Synopsis of t...\n",
            "__testing_multipart-matrix-synopsis (-1 records): [THIS IS ONLY FOR TESTING] Synopsis of t...\n",
            "fake-news (12999 records): News dataset, contains text and metadata...\n",
            "patent-2017 (353197 records): Patent Grant Full Text. Contains the ful...\n",
            "quora-duplicate-questions (404290 records): Over 400,000 lines of potential question...\n",
            "semeval-2016-2017-task3-subtaskA-unannotated (189941 records): SemEval 2016 / 2017 Task 3 Subtask A una...\n",
            "semeval-2016-2017-task3-subtaskBC (-1 records): SemEval 2016 / 2017 Task 3 Subtask B and...\n",
            "text8 (1701 records): First 100,000,000 bytes of plain text fr...\n",
            "wiki-english-20171001 (4924894 records): Extracted Wikipedia dump from October 20...\n"
          ]
        }
      ],
      "source": [
        "for model_name, model_data in sorted(api.info()['corpora'].items()):\n",
        "    print(\n",
        "        '%s (%d records): %s' % (\n",
        "            model_name,\n",
        "            model_data.get('num_records', -1),\n",
        "            model_data['description'][:40] + '...',\n",
        "        )\n",
        "    )"
      ]
    }
  ],
  "metadata": {
    "colab": {
      "collapsed_sections": [],
      "name": "hw3_word2vec_tsne_template.ipynb",
      "provenance": []
    },
    "interpreter": {
      "hash": "d681ec65da38070935865d297b1942c990165e70faa6f911b583ee4322f0c6ff"
    },
    "kernelspec": {
      "display_name": "Python 3.10.4 ('env': venv)",
      "language": "python",
      "name": "python3"
    },
    "language_info": {
      "codemirror_mode": {
        "name": "ipython",
        "version": 3
      },
      "file_extension": ".py",
      "mimetype": "text/x-python",
      "name": "python",
      "nbconvert_exporter": "python",
      "pygments_lexer": "ipython3",
      "version": "3.10.4"
    }
  },
  "nbformat": 4,
  "nbformat_minor": 0
}
